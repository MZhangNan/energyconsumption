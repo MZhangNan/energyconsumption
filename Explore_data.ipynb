{
 "cells": [
  {
   "cell_type": "code",
   "execution_count": 1,
   "metadata": {},
   "outputs": [
    {
     "name": "stderr",
     "output_type": "stream",
     "text": [
      "/Users/leo/opt/anaconda3/lib/python3.7/site-packages/statsmodels/tools/_testing.py:19: FutureWarning: pandas.util.testing is deprecated. Use the functions in the public API at pandas.testing instead.\n",
      "  import pandas.util.testing as tm\n"
     ]
    }
   ],
   "source": [
    "import pandas as pd\n",
    "import numpy as np\n",
    "import seaborn as sns\n",
    "import matplotlib.pyplot as plt\n",
    "\n",
    "%matplotlib inline\n",
    "%config InlineBackend.figure_format = 'retina'"
   ]
  },
  {
   "cell_type": "markdown",
   "metadata": {},
   "source": [
    "## 6 train.csv 用电数据"
   ]
  },
  {
   "cell_type": "code",
   "execution_count": 3,
   "metadata": {},
   "outputs": [],
   "source": [
    "data = pd.read_csv('6 train.csv')"
   ]
  },
  {
   "cell_type": "code",
   "execution_count": 4,
   "metadata": {},
   "outputs": [
    {
     "name": "stdout",
     "output_type": "stream",
     "text": [
      "<class 'pandas.core.frame.DataFrame'>\n",
      "RangeIndex: 1047614 entries, 0 to 1047613\n",
      "Data columns (total 4 columns):\n",
      " #   Column      Non-Null Count    Dtype  \n",
      "---  ------      --------------    -----  \n",
      " 0   Time        1047614 non-null  object \n",
      " 1   BuildingID  1047614 non-null  int64  \n",
      " 2   Type        1047614 non-null  object \n",
      " 3   Record      1047614 non-null  float64\n",
      "dtypes: float64(1), int64(1), object(2)\n",
      "memory usage: 32.0+ MB\n"
     ]
    }
   ],
   "source": [
    "data.info()"
   ]
  },
  {
   "cell_type": "code",
   "execution_count": 5,
   "metadata": {},
   "outputs": [
    {
     "data": {
      "text/html": [
       "<div>\n",
       "<style scoped>\n",
       "    .dataframe tbody tr th:only-of-type {\n",
       "        vertical-align: middle;\n",
       "    }\n",
       "\n",
       "    .dataframe tbody tr th {\n",
       "        vertical-align: top;\n",
       "    }\n",
       "\n",
       "    .dataframe thead th {\n",
       "        text-align: right;\n",
       "    }\n",
       "</style>\n",
       "<table border=\"1\" class=\"dataframe\">\n",
       "  <thead>\n",
       "    <tr style=\"text-align: right;\">\n",
       "      <th></th>\n",
       "      <th>BuildingID</th>\n",
       "      <th>Record</th>\n",
       "    </tr>\n",
       "  </thead>\n",
       "  <tbody>\n",
       "    <tr>\n",
       "      <th>count</th>\n",
       "      <td>1.047614e+06</td>\n",
       "      <td>1.047614e+06</td>\n",
       "    </tr>\n",
       "    <tr>\n",
       "      <th>mean</th>\n",
       "      <td>9.471794e+00</td>\n",
       "      <td>2.126112e+02</td>\n",
       "    </tr>\n",
       "    <tr>\n",
       "      <th>std</th>\n",
       "      <td>5.762828e+00</td>\n",
       "      <td>2.261805e+03</td>\n",
       "    </tr>\n",
       "    <tr>\n",
       "      <th>min</th>\n",
       "      <td>0.000000e+00</td>\n",
       "      <td>-4.378370e+05</td>\n",
       "    </tr>\n",
       "    <tr>\n",
       "      <th>25%</th>\n",
       "      <td>4.000000e+00</td>\n",
       "      <td>2.625000e+01</td>\n",
       "    </tr>\n",
       "    <tr>\n",
       "      <th>50%</th>\n",
       "      <td>9.000000e+00</td>\n",
       "      <td>1.036300e+02</td>\n",
       "    </tr>\n",
       "    <tr>\n",
       "      <th>75%</th>\n",
       "      <td>1.400000e+01</td>\n",
       "      <td>2.310000e+02</td>\n",
       "    </tr>\n",
       "    <tr>\n",
       "      <th>max</th>\n",
       "      <td>1.900000e+01</td>\n",
       "      <td>1.966968e+06</td>\n",
       "    </tr>\n",
       "  </tbody>\n",
       "</table>\n",
       "</div>"
      ],
      "text/plain": [
       "         BuildingID        Record\n",
       "count  1.047614e+06  1.047614e+06\n",
       "mean   9.471794e+00  2.126112e+02\n",
       "std    5.762828e+00  2.261805e+03\n",
       "min    0.000000e+00 -4.378370e+05\n",
       "25%    4.000000e+00  2.625000e+01\n",
       "50%    9.000000e+00  1.036300e+02\n",
       "75%    1.400000e+01  2.310000e+02\n",
       "max    1.900000e+01  1.966968e+06"
      ]
     },
     "execution_count": 5,
     "metadata": {},
     "output_type": "execute_result"
    }
   ],
   "source": [
    "data.describe()"
   ]
  },
  {
   "cell_type": "code",
   "execution_count": 6,
   "metadata": {},
   "outputs": [
    {
     "data": {
      "text/html": [
       "<div>\n",
       "<style scoped>\n",
       "    .dataframe tbody tr th:only-of-type {\n",
       "        vertical-align: middle;\n",
       "    }\n",
       "\n",
       "    .dataframe tbody tr th {\n",
       "        vertical-align: top;\n",
       "    }\n",
       "\n",
       "    .dataframe thead th {\n",
       "        text-align: right;\n",
       "    }\n",
       "</style>\n",
       "<table border=\"1\" class=\"dataframe\">\n",
       "  <thead>\n",
       "    <tr style=\"text-align: right;\">\n",
       "      <th></th>\n",
       "      <th>Time</th>\n",
       "      <th>BuildingID</th>\n",
       "      <th>Type</th>\n",
       "      <th>Record</th>\n",
       "    </tr>\n",
       "  </thead>\n",
       "  <tbody>\n",
       "    <tr>\n",
       "      <th>1</th>\n",
       "      <td>2015-01-01 00:00:00</td>\n",
       "      <td>0</td>\n",
       "      <td>W</td>\n",
       "      <td>203.15</td>\n",
       "    </tr>\n",
       "    <tr>\n",
       "      <th>3</th>\n",
       "      <td>2015-01-01 01:00:00</td>\n",
       "      <td>0</td>\n",
       "      <td>W</td>\n",
       "      <td>205.14</td>\n",
       "    </tr>\n",
       "    <tr>\n",
       "      <th>5</th>\n",
       "      <td>2015-01-01 02:00:00</td>\n",
       "      <td>0</td>\n",
       "      <td>W</td>\n",
       "      <td>179.15</td>\n",
       "    </tr>\n",
       "    <tr>\n",
       "      <th>7</th>\n",
       "      <td>2015-01-01 03:00:00</td>\n",
       "      <td>0</td>\n",
       "      <td>W</td>\n",
       "      <td>173.16</td>\n",
       "    </tr>\n",
       "    <tr>\n",
       "      <th>9</th>\n",
       "      <td>2015-01-01 04:00:00</td>\n",
       "      <td>0</td>\n",
       "      <td>W</td>\n",
       "      <td>194.17</td>\n",
       "    </tr>\n",
       "    <tr>\n",
       "      <th>...</th>\n",
       "      <td>...</td>\n",
       "      <td>...</td>\n",
       "      <td>...</td>\n",
       "      <td>...</td>\n",
       "    </tr>\n",
       "    <tr>\n",
       "      <th>52599</th>\n",
       "      <td>2017-12-31 19:00:00</td>\n",
       "      <td>0</td>\n",
       "      <td>W</td>\n",
       "      <td>217.72</td>\n",
       "    </tr>\n",
       "    <tr>\n",
       "      <th>52601</th>\n",
       "      <td>2017-12-31 20:00:00</td>\n",
       "      <td>0</td>\n",
       "      <td>W</td>\n",
       "      <td>227.37</td>\n",
       "    </tr>\n",
       "    <tr>\n",
       "      <th>52603</th>\n",
       "      <td>2017-12-31 21:00:00</td>\n",
       "      <td>0</td>\n",
       "      <td>W</td>\n",
       "      <td>236.06</td>\n",
       "    </tr>\n",
       "    <tr>\n",
       "      <th>52605</th>\n",
       "      <td>2017-12-31 22:00:00</td>\n",
       "      <td>0</td>\n",
       "      <td>W</td>\n",
       "      <td>226.09</td>\n",
       "    </tr>\n",
       "    <tr>\n",
       "      <th>52607</th>\n",
       "      <td>2017-12-31 23:00:00</td>\n",
       "      <td>0</td>\n",
       "      <td>W</td>\n",
       "      <td>229.97</td>\n",
       "    </tr>\n",
       "  </tbody>\n",
       "</table>\n",
       "<p>26304 rows × 4 columns</p>\n",
       "</div>"
      ],
      "text/plain": [
       "                      Time  BuildingID Type  Record\n",
       "1      2015-01-01 00:00:00           0    W  203.15\n",
       "3      2015-01-01 01:00:00           0    W  205.14\n",
       "5      2015-01-01 02:00:00           0    W  179.15\n",
       "7      2015-01-01 03:00:00           0    W  173.16\n",
       "9      2015-01-01 04:00:00           0    W  194.17\n",
       "...                    ...         ...  ...     ...\n",
       "52599  2017-12-31 19:00:00           0    W  217.72\n",
       "52601  2017-12-31 20:00:00           0    W  227.37\n",
       "52603  2017-12-31 21:00:00           0    W  236.06\n",
       "52605  2017-12-31 22:00:00           0    W  226.09\n",
       "52607  2017-12-31 23:00:00           0    W  229.97\n",
       "\n",
       "[26304 rows x 4 columns]"
      ]
     },
     "execution_count": 6,
     "metadata": {},
     "output_type": "execute_result"
    }
   ],
   "source": [
    "data.loc[(data['BuildingID'] == 0) & (data['Type'] == 'W')]"
   ]
  },
  {
   "cell_type": "code",
   "execution_count": 17,
   "metadata": {},
   "outputs": [],
   "source": [
    "time = np.array(data.loc[(data['BuildingID'] == 0) & (data['Type'] == 'W')]['Time'])\n",
    "record = np.array(data.loc[(data['BuildingID'] == 0) & (data['Type'] == 'W')]['Record'])"
   ]
  },
  {
   "cell_type": "markdown",
   "metadata": {},
   "source": [
    "0号building，2015年前1000条空调用能数据"
   ]
  },
  {
   "cell_type": "code",
   "execution_count": 19,
   "metadata": {},
   "outputs": [
    {
     "data": {
      "text/plain": [
       "[<matplotlib.lines.Line2D at 0x11af2ec90>]"
      ]
     },
     "execution_count": 19,
     "metadata": {},
     "output_type": "execute_result"
    },
    {
     "data": {
      "image/png": "[encoded data removed]",
      "text/plain": [
       "<Figure size 432x288 with 1 Axes>"
      ]
     },
     "metadata": {
      "image/png": {
       "height": 249,
       "width": 428
      },
      "needs_background": "light"
     },
     "output_type": "display_data"
    }
   ],
   "source": [
    "plt.plot(time[:1000], record[:1000])"
   ]
  },
  {
   "cell_type": "code",
   "execution_count": 36,
   "metadata": {},
   "outputs": [
    {
     "data": {
      "text/plain": [
       "(array([2.71838326e-04, 3.62451101e-04, 1.29446822e-04, 3.88340466e-05,\n",
       "        1.29446822e-05, 1.29446822e-05, 0.00000000e+00, 7.76680932e-05,\n",
       "        5.17787288e-05, 5.17787288e-05, 3.88340466e-05, 1.29446822e-05,\n",
       "        1.29446822e-05, 1.29446822e-05, 0.00000000e+00, 0.00000000e+00,\n",
       "        0.00000000e+00, 0.00000000e+00, 0.00000000e+00, 0.00000000e+00,\n",
       "        0.00000000e+00, 0.00000000e+00, 0.00000000e+00, 0.00000000e+00,\n",
       "        0.00000000e+00, 0.00000000e+00, 5.17787288e-05, 7.63736250e-04,\n",
       "        3.24911523e-03, 2.10998320e-03, 7.89625614e-04, 5.30731970e-04,\n",
       "        4.14229830e-04, 1.68280869e-04, 1.55336186e-04, 7.76680932e-05,\n",
       "        2.84783008e-04, 1.68280869e-04, 1.68280869e-04, 3.36561737e-04,\n",
       "        3.75395784e-04, 3.49506419e-04, 4.66008559e-04, 4.14229830e-04,\n",
       "        3.75395784e-04, 2.20059597e-04, 1.42391504e-04, 7.76680932e-05,\n",
       "        9.06127754e-05, 7.76680932e-05]),\n",
       " array([-2004.41  , -1927.1582, -1849.9064, -1772.6546, -1695.4028,\n",
       "        -1618.151 , -1540.8992, -1463.6474, -1386.3956, -1309.1438,\n",
       "        -1231.892 , -1154.6402, -1077.3884, -1000.1366,  -922.8848,\n",
       "         -845.633 ,  -768.3812,  -691.1294,  -613.8776,  -536.6258,\n",
       "         -459.374 ,  -382.1222,  -304.8704,  -227.6186,  -150.3668,\n",
       "          -73.115 ,     4.1368,    81.3886,   158.6404,   235.8922,\n",
       "          313.144 ,   390.3958,   467.6476,   544.8994,   622.1512,\n",
       "          699.403 ,   776.6548,   853.9066,   931.1584,  1008.4102,\n",
       "         1085.662 ,  1162.9138,  1240.1656,  1317.4174,  1394.6692,\n",
       "         1471.921 ,  1549.1728,  1626.4246,  1703.6764,  1780.9282,\n",
       "         1858.18  ]),\n",
       " <a list of 50 Patch objects>)"
      ]
     },
     "execution_count": 36,
     "metadata": {},
     "output_type": "execute_result"
    },
    {
     "data": {
      "image/png": "[encoded data removed]",
      "text/plain": [
       "<Figure size 432x288 with 1 Axes>"
      ]
     },
     "metadata": {
      "image/png": {
       "height": 248,
       "width": 400
      },
      "needs_background": "light"
     },
     "output_type": "display_data"
    }
   ],
   "source": [
    "plt.hist(record[:1000], bins=50, density=True)"
   ]
  },
  {
   "cell_type": "markdown",
   "metadata": {},
   "source": [
    "Record里面有很多负值，疑似异常值，**怎么处理？**"
   ]
  },
  {
   "cell_type": "code",
   "execution_count": 22,
   "metadata": {},
   "outputs": [
    {
     "data": {
      "text/html": [
       "<div>\n",
       "<style scoped>\n",
       "    .dataframe tbody tr th:only-of-type {\n",
       "        vertical-align: middle;\n",
       "    }\n",
       "\n",
       "    .dataframe tbody tr th {\n",
       "        vertical-align: top;\n",
       "    }\n",
       "\n",
       "    .dataframe thead th {\n",
       "        text-align: right;\n",
       "    }\n",
       "</style>\n",
       "<table border=\"1\" class=\"dataframe\">\n",
       "  <thead>\n",
       "    <tr style=\"text-align: right;\">\n",
       "      <th></th>\n",
       "      <th>Time</th>\n",
       "      <th>BuildingID</th>\n",
       "      <th>Type</th>\n",
       "      <th>Record</th>\n",
       "    </tr>\n",
       "  </thead>\n",
       "  <tbody>\n",
       "    <tr>\n",
       "      <td>811</td>\n",
       "      <td>2015-01-17 21:00:00</td>\n",
       "      <td>0</td>\n",
       "      <td>W</td>\n",
       "      <td>-1906.40</td>\n",
       "    </tr>\n",
       "    <tr>\n",
       "      <td>813</td>\n",
       "      <td>2015-01-17 22:00:00</td>\n",
       "      <td>0</td>\n",
       "      <td>W</td>\n",
       "      <td>-1918.36</td>\n",
       "    </tr>\n",
       "    <tr>\n",
       "      <td>815</td>\n",
       "      <td>2015-01-17 23:00:00</td>\n",
       "      <td>0</td>\n",
       "      <td>W</td>\n",
       "      <td>-1915.40</td>\n",
       "    </tr>\n",
       "    <tr>\n",
       "      <td>817</td>\n",
       "      <td>2015-01-18 00:00:00</td>\n",
       "      <td>0</td>\n",
       "      <td>W</td>\n",
       "      <td>-1915.38</td>\n",
       "    </tr>\n",
       "    <tr>\n",
       "      <td>819</td>\n",
       "      <td>2015-01-18 01:00:00</td>\n",
       "      <td>0</td>\n",
       "      <td>W</td>\n",
       "      <td>-1917.35</td>\n",
       "    </tr>\n",
       "    <tr>\n",
       "      <td>...</td>\n",
       "      <td>...</td>\n",
       "      <td>...</td>\n",
       "      <td>...</td>\n",
       "      <td>...</td>\n",
       "    </tr>\n",
       "    <tr>\n",
       "      <td>624706</td>\n",
       "      <td>2017-08-16 17:00:00</td>\n",
       "      <td>11</td>\n",
       "      <td>Q</td>\n",
       "      <td>-14529.85</td>\n",
       "    </tr>\n",
       "    <tr>\n",
       "      <td>624840</td>\n",
       "      <td>2017-08-19 12:00:00</td>\n",
       "      <td>11</td>\n",
       "      <td>Q</td>\n",
       "      <td>-437837.01</td>\n",
       "    </tr>\n",
       "    <tr>\n",
       "      <td>625330</td>\n",
       "      <td>2017-08-29 17:00:00</td>\n",
       "      <td>11</td>\n",
       "      <td>Q</td>\n",
       "      <td>-17955.46</td>\n",
       "    </tr>\n",
       "    <tr>\n",
       "      <td>625793</td>\n",
       "      <td>2017-09-08 08:00:00</td>\n",
       "      <td>11</td>\n",
       "      <td>W</td>\n",
       "      <td>-1711.06</td>\n",
       "    </tr>\n",
       "    <tr>\n",
       "      <td>626128</td>\n",
       "      <td>2017-09-15 08:00:00</td>\n",
       "      <td>11</td>\n",
       "      <td>Q</td>\n",
       "      <td>-3407.19</td>\n",
       "    </tr>\n",
       "  </tbody>\n",
       "</table>\n",
       "<p>96 rows × 4 columns</p>\n",
       "</div>"
      ],
      "text/plain": [
       "                       Time  BuildingID Type     Record\n",
       "811     2015-01-17 21:00:00           0    W   -1906.40\n",
       "813     2015-01-17 22:00:00           0    W   -1918.36\n",
       "815     2015-01-17 23:00:00           0    W   -1915.40\n",
       "817     2015-01-18 00:00:00           0    W   -1915.38\n",
       "819     2015-01-18 01:00:00           0    W   -1917.35\n",
       "...                     ...         ...  ...        ...\n",
       "624706  2017-08-16 17:00:00          11    Q  -14529.85\n",
       "624840  2017-08-19 12:00:00          11    Q -437837.01\n",
       "625330  2017-08-29 17:00:00          11    Q  -17955.46\n",
       "625793  2017-09-08 08:00:00          11    W   -1711.06\n",
       "626128  2017-09-15 08:00:00          11    Q   -3407.19\n",
       "\n",
       "[96 rows x 4 columns]"
      ]
     },
     "execution_count": 22,
     "metadata": {},
     "output_type": "execute_result"
    }
   ],
   "source": [
    "data.loc[data['Record'] < 0]"
   ]
  },
  {
   "cell_type": "markdown",
   "metadata": {},
   "source": [
    "W记录错误？"
   ]
  },
  {
   "cell_type": "code",
   "execution_count": 25,
   "metadata": {},
   "outputs": [
    {
     "data": {
      "text/html": [
       "<div>\n",
       "<style scoped>\n",
       "    .dataframe tbody tr th:only-of-type {\n",
       "        vertical-align: middle;\n",
       "    }\n",
       "\n",
       "    .dataframe tbody tr th {\n",
       "        vertical-align: top;\n",
       "    }\n",
       "\n",
       "    .dataframe thead th {\n",
       "        text-align: right;\n",
       "    }\n",
       "</style>\n",
       "<table border=\"1\" class=\"dataframe\">\n",
       "  <thead>\n",
       "    <tr style=\"text-align: right;\">\n",
       "      <th></th>\n",
       "      <th>Time</th>\n",
       "      <th>BuildingID</th>\n",
       "      <th>Type</th>\n",
       "      <th>Record</th>\n",
       "    </tr>\n",
       "  </thead>\n",
       "  <tbody>\n",
       "    <tr>\n",
       "      <td>809</td>\n",
       "      <td>2015-01-17 20:00:00</td>\n",
       "      <td>0</td>\n",
       "      <td>W</td>\n",
       "      <td>236.13</td>\n",
       "    </tr>\n",
       "    <tr>\n",
       "      <td>810</td>\n",
       "      <td>2015-01-17 21:00:00</td>\n",
       "      <td>0</td>\n",
       "      <td>Q</td>\n",
       "      <td>284.32</td>\n",
       "    </tr>\n",
       "    <tr>\n",
       "      <td>811</td>\n",
       "      <td>2015-01-17 21:00:00</td>\n",
       "      <td>0</td>\n",
       "      <td>W</td>\n",
       "      <td>-1906.40</td>\n",
       "    </tr>\n",
       "    <tr>\n",
       "      <td>812</td>\n",
       "      <td>2015-01-17 22:00:00</td>\n",
       "      <td>0</td>\n",
       "      <td>Q</td>\n",
       "      <td>297.44</td>\n",
       "    </tr>\n",
       "    <tr>\n",
       "      <td>813</td>\n",
       "      <td>2015-01-17 22:00:00</td>\n",
       "      <td>0</td>\n",
       "      <td>W</td>\n",
       "      <td>-1918.36</td>\n",
       "    </tr>\n",
       "    <tr>\n",
       "      <td>814</td>\n",
       "      <td>2015-01-17 23:00:00</td>\n",
       "      <td>0</td>\n",
       "      <td>Q</td>\n",
       "      <td>282.32</td>\n",
       "    </tr>\n",
       "  </tbody>\n",
       "</table>\n",
       "</div>"
      ],
      "text/plain": [
       "                    Time  BuildingID Type   Record\n",
       "809  2015-01-17 20:00:00           0    W   236.13\n",
       "810  2015-01-17 21:00:00           0    Q   284.32\n",
       "811  2015-01-17 21:00:00           0    W -1906.40\n",
       "812  2015-01-17 22:00:00           0    Q   297.44\n",
       "813  2015-01-17 22:00:00           0    W -1918.36\n",
       "814  2015-01-17 23:00:00           0    Q   282.32"
      ]
     },
     "execution_count": 25,
     "metadata": {},
     "output_type": "execute_result"
    }
   ],
   "source": [
    "data.iloc[809:815,:]"
   ]
  },
  {
   "cell_type": "markdown",
   "metadata": {},
   "source": [
    "看来正值也有异常值"
   ]
  },
  {
   "cell_type": "code",
   "execution_count": 26,
   "metadata": {},
   "outputs": [
    {
     "data": {
      "text/html": [
       "<div>\n",
       "<style scoped>\n",
       "    .dataframe tbody tr th:only-of-type {\n",
       "        vertical-align: middle;\n",
       "    }\n",
       "\n",
       "    .dataframe tbody tr th {\n",
       "        vertical-align: top;\n",
       "    }\n",
       "\n",
       "    .dataframe thead th {\n",
       "        text-align: right;\n",
       "    }\n",
       "</style>\n",
       "<table border=\"1\" class=\"dataframe\">\n",
       "  <thead>\n",
       "    <tr style=\"text-align: right;\">\n",
       "      <th></th>\n",
       "      <th>Time</th>\n",
       "      <th>BuildingID</th>\n",
       "      <th>Type</th>\n",
       "      <th>Record</th>\n",
       "    </tr>\n",
       "  </thead>\n",
       "  <tbody>\n",
       "    <tr>\n",
       "      <td>624704</td>\n",
       "      <td>2017-08-16 16:00:00</td>\n",
       "      <td>11</td>\n",
       "      <td>Q</td>\n",
       "      <td>2117.38</td>\n",
       "    </tr>\n",
       "    <tr>\n",
       "      <td>624705</td>\n",
       "      <td>2017-08-16 16:00:00</td>\n",
       "      <td>11</td>\n",
       "      <td>W</td>\n",
       "      <td>2.64</td>\n",
       "    </tr>\n",
       "    <tr>\n",
       "      <td>624706</td>\n",
       "      <td>2017-08-16 17:00:00</td>\n",
       "      <td>11</td>\n",
       "      <td>Q</td>\n",
       "      <td>-14529.85</td>\n",
       "    </tr>\n",
       "    <tr>\n",
       "      <td>624707</td>\n",
       "      <td>2017-08-16 17:00:00</td>\n",
       "      <td>11</td>\n",
       "      <td>W</td>\n",
       "      <td>1.32</td>\n",
       "    </tr>\n",
       "    <tr>\n",
       "      <td>624708</td>\n",
       "      <td>2017-08-16 18:00:00</td>\n",
       "      <td>11</td>\n",
       "      <td>Q</td>\n",
       "      <td>18221.54</td>\n",
       "    </tr>\n",
       "    <tr>\n",
       "      <td>624709</td>\n",
       "      <td>2017-08-16 18:00:00</td>\n",
       "      <td>11</td>\n",
       "      <td>W</td>\n",
       "      <td>0.00</td>\n",
       "    </tr>\n",
       "  </tbody>\n",
       "</table>\n",
       "</div>"
      ],
      "text/plain": [
       "                       Time  BuildingID Type    Record\n",
       "624704  2017-08-16 16:00:00          11    Q   2117.38\n",
       "624705  2017-08-16 16:00:00          11    W      2.64\n",
       "624706  2017-08-16 17:00:00          11    Q -14529.85\n",
       "624707  2017-08-16 17:00:00          11    W      1.32\n",
       "624708  2017-08-16 18:00:00          11    Q  18221.54\n",
       "624709  2017-08-16 18:00:00          11    W      0.00"
      ]
     },
     "execution_count": 26,
     "metadata": {},
     "output_type": "execute_result"
    }
   ],
   "source": [
    "data.iloc[624704:624710,:]"
   ]
  },
  {
   "cell_type": "markdown",
   "metadata": {},
   "source": [
    "## 整合天气数据"
   ]
  },
  {
   "cell_type": "markdown",
   "metadata": {},
   "source": [
    "读入2015天气数据"
   ]
  },
  {
   "cell_type": "code",
   "execution_count": 11,
   "metadata": {
    "scrolled": false
   },
   "outputs": [],
   "source": [
    "weather_data_2015 = pd.read_excel('./4 weather/shanghai weather_2015.xlsx', sheet_name=0, index_col=None)"
   ]
  },
  {
   "cell_type": "code",
   "execution_count": 12,
   "metadata": {},
   "outputs": [
    {
     "data": {
      "text/html": [
       "<div>\n",
       "<style scoped>\n",
       "    .dataframe tbody tr th:only-of-type {\n",
       "        vertical-align: middle;\n",
       "    }\n",
       "\n",
       "    .dataframe tbody tr th {\n",
       "        vertical-align: top;\n",
       "    }\n",
       "\n",
       "    .dataframe thead th {\n",
       "        text-align: right;\n",
       "    }\n",
       "</style>\n",
       "<table border=\"1\" class=\"dataframe\">\n",
       "  <thead>\n",
       "    <tr style=\"text-align: right;\">\n",
       "      <th></th>\n",
       "      <th>Time</th>\n",
       "      <th>temp</th>\n",
       "      <th>dew point</th>\n",
       "      <th>relative humidity</th>\n",
       "      <th>air pressure</th>\n",
       "      <th>wind speed</th>\n",
       "    </tr>\n",
       "  </thead>\n",
       "  <tbody>\n",
       "    <tr>\n",
       "      <th>0</th>\n",
       "      <td>2015-01-01 00:00:00</td>\n",
       "      <td>1.5</td>\n",
       "      <td>-12.0</td>\n",
       "      <td>36.5</td>\n",
       "      <td>1033.0</td>\n",
       "      <td>16.2</td>\n",
       "    </tr>\n",
       "    <tr>\n",
       "      <th>1</th>\n",
       "      <td>2015-01-01 01:00:00</td>\n",
       "      <td>1.0</td>\n",
       "      <td>-10.5</td>\n",
       "      <td>42.5</td>\n",
       "      <td>1033.0</td>\n",
       "      <td>14.4</td>\n",
       "    </tr>\n",
       "    <tr>\n",
       "      <th>2</th>\n",
       "      <td>2015-01-01 02:00:00</td>\n",
       "      <td>1.0</td>\n",
       "      <td>-11.0</td>\n",
       "      <td>41.0</td>\n",
       "      <td>1033.0</td>\n",
       "      <td>18.0</td>\n",
       "    </tr>\n",
       "    <tr>\n",
       "      <th>3</th>\n",
       "      <td>2015-01-01 03:00:00</td>\n",
       "      <td>0.5</td>\n",
       "      <td>-11.0</td>\n",
       "      <td>42.5</td>\n",
       "      <td>1033.0</td>\n",
       "      <td>14.4</td>\n",
       "    </tr>\n",
       "    <tr>\n",
       "      <th>4</th>\n",
       "      <td>2015-01-01 04:00:00</td>\n",
       "      <td>0.0</td>\n",
       "      <td>-10.5</td>\n",
       "      <td>46.0</td>\n",
       "      <td>1033.0</td>\n",
       "      <td>18.0</td>\n",
       "    </tr>\n",
       "  </tbody>\n",
       "</table>\n",
       "</div>"
      ],
      "text/plain": [
       "                 Time  temp  dew point  relative humidity  air pressure  \\\n",
       "0 2015-01-01 00:00:00   1.5      -12.0               36.5        1033.0   \n",
       "1 2015-01-01 01:00:00   1.0      -10.5               42.5        1033.0   \n",
       "2 2015-01-01 02:00:00   1.0      -11.0               41.0        1033.0   \n",
       "3 2015-01-01 03:00:00   0.5      -11.0               42.5        1033.0   \n",
       "4 2015-01-01 04:00:00   0.0      -10.5               46.0        1033.0   \n",
       "\n",
       "   wind speed  \n",
       "0        16.2  \n",
       "1        14.4  \n",
       "2        18.0  \n",
       "3        14.4  \n",
       "4        18.0  "
      ]
     },
     "execution_count": 12,
     "metadata": {},
     "output_type": "execute_result"
    }
   ],
   "source": [
    "weather_data_2015.head()"
   ]
  },
  {
   "cell_type": "code",
   "execution_count": 13,
   "metadata": {},
   "outputs": [
    {
     "name": "stdout",
     "output_type": "stream",
     "text": [
      "<class 'pandas.core.frame.DataFrame'>\n",
      "RangeIndex: 8760 entries, 0 to 8759\n",
      "Data columns (total 6 columns):\n",
      " #   Column             Non-Null Count  Dtype         \n",
      "---  ------             --------------  -----         \n",
      " 0   Time               8760 non-null   datetime64[ns]\n",
      " 1   temp               8760 non-null   float64       \n",
      " 2   dew point          8760 non-null   float64       \n",
      " 3   relative humidity  8760 non-null   float64       \n",
      " 4   air pressure       8760 non-null   float64       \n",
      " 5   wind speed         8760 non-null   float64       \n",
      "dtypes: datetime64[ns](1), float64(5)\n",
      "memory usage: 410.8 KB\n"
     ]
    }
   ],
   "source": [
    "weather_data_2015.info()"
   ]
  },
  {
   "cell_type": "code",
   "execution_count": 18,
   "metadata": {},
   "outputs": [
    {
     "data": {
      "text/html": [
       "<div>\n",
       "<style scoped>\n",
       "    .dataframe tbody tr th:only-of-type {\n",
       "        vertical-align: middle;\n",
       "    }\n",
       "\n",
       "    .dataframe tbody tr th {\n",
       "        vertical-align: top;\n",
       "    }\n",
       "\n",
       "    .dataframe thead th {\n",
       "        text-align: right;\n",
       "    }\n",
       "</style>\n",
       "<table border=\"1\" class=\"dataframe\">\n",
       "  <thead>\n",
       "    <tr style=\"text-align: right;\">\n",
       "      <th></th>\n",
       "      <th>Time</th>\n",
       "      <th>temp</th>\n",
       "      <th>dew point</th>\n",
       "      <th>relative humidity</th>\n",
       "      <th>air pressure</th>\n",
       "      <th>wind speed</th>\n",
       "    </tr>\n",
       "  </thead>\n",
       "  <tbody>\n",
       "    <tr>\n",
       "      <th>0</th>\n",
       "      <td>2015-01-01 00:00:00</td>\n",
       "      <td>1.5</td>\n",
       "      <td>-12.0</td>\n",
       "      <td>36.5</td>\n",
       "      <td>1033.0</td>\n",
       "      <td>16.2</td>\n",
       "    </tr>\n",
       "    <tr>\n",
       "      <th>1</th>\n",
       "      <td>2015-01-01 01:00:00</td>\n",
       "      <td>1.0</td>\n",
       "      <td>-10.5</td>\n",
       "      <td>42.5</td>\n",
       "      <td>1033.0</td>\n",
       "      <td>14.4</td>\n",
       "    </tr>\n",
       "    <tr>\n",
       "      <th>2</th>\n",
       "      <td>2015-01-01 02:00:00</td>\n",
       "      <td>1.0</td>\n",
       "      <td>-11.0</td>\n",
       "      <td>41.0</td>\n",
       "      <td>1033.0</td>\n",
       "      <td>18.0</td>\n",
       "    </tr>\n",
       "    <tr>\n",
       "      <th>3</th>\n",
       "      <td>2015-01-01 03:00:00</td>\n",
       "      <td>0.5</td>\n",
       "      <td>-11.0</td>\n",
       "      <td>42.5</td>\n",
       "      <td>1033.0</td>\n",
       "      <td>14.4</td>\n",
       "    </tr>\n",
       "    <tr>\n",
       "      <th>4</th>\n",
       "      <td>2015-01-01 04:00:00</td>\n",
       "      <td>0.0</td>\n",
       "      <td>-10.5</td>\n",
       "      <td>46.0</td>\n",
       "      <td>1033.0</td>\n",
       "      <td>18.0</td>\n",
       "    </tr>\n",
       "    <tr>\n",
       "      <th>...</th>\n",
       "      <td>...</td>\n",
       "      <td>...</td>\n",
       "      <td>...</td>\n",
       "      <td>...</td>\n",
       "      <td>...</td>\n",
       "      <td>...</td>\n",
       "    </tr>\n",
       "    <tr>\n",
       "      <th>8755</th>\n",
       "      <td>2015-12-31 19:00:00</td>\n",
       "      <td>5.5</td>\n",
       "      <td>-1.0</td>\n",
       "      <td>63.0</td>\n",
       "      <td>1035.0</td>\n",
       "      <td>10.8</td>\n",
       "    </tr>\n",
       "    <tr>\n",
       "      <th>8756</th>\n",
       "      <td>2015-12-31 20:00:00</td>\n",
       "      <td>6.0</td>\n",
       "      <td>1.0</td>\n",
       "      <td>70.0</td>\n",
       "      <td>1035.5</td>\n",
       "      <td>12.6</td>\n",
       "    </tr>\n",
       "    <tr>\n",
       "      <th>8757</th>\n",
       "      <td>2015-12-31 21:00:00</td>\n",
       "      <td>5.5</td>\n",
       "      <td>1.0</td>\n",
       "      <td>73.0</td>\n",
       "      <td>1036.0</td>\n",
       "      <td>10.8</td>\n",
       "    </tr>\n",
       "    <tr>\n",
       "      <th>8758</th>\n",
       "      <td>2015-12-31 22:00:00</td>\n",
       "      <td>5.0</td>\n",
       "      <td>0.0</td>\n",
       "      <td>70.0</td>\n",
       "      <td>1035.0</td>\n",
       "      <td>9.0</td>\n",
       "    </tr>\n",
       "    <tr>\n",
       "      <th>8759</th>\n",
       "      <td>2015-12-31 23:00:00</td>\n",
       "      <td>5.0</td>\n",
       "      <td>0.0</td>\n",
       "      <td>70.0</td>\n",
       "      <td>1035.0</td>\n",
       "      <td>7.2</td>\n",
       "    </tr>\n",
       "  </tbody>\n",
       "</table>\n",
       "<p>8760 rows × 6 columns</p>\n",
       "</div>"
      ],
      "text/plain": [
       "                     Time  temp  dew point  relative humidity  air pressure  \\\n",
       "0     2015-01-01 00:00:00   1.5      -12.0               36.5        1033.0   \n",
       "1     2015-01-01 01:00:00   1.0      -10.5               42.5        1033.0   \n",
       "2     2015-01-01 02:00:00   1.0      -11.0               41.0        1033.0   \n",
       "3     2015-01-01 03:00:00   0.5      -11.0               42.5        1033.0   \n",
       "4     2015-01-01 04:00:00   0.0      -10.5               46.0        1033.0   \n",
       "...                   ...   ...        ...                ...           ...   \n",
       "8755  2015-12-31 19:00:00   5.5       -1.0               63.0        1035.0   \n",
       "8756  2015-12-31 20:00:00   6.0        1.0               70.0        1035.5   \n",
       "8757  2015-12-31 21:00:00   5.5        1.0               73.0        1036.0   \n",
       "8758  2015-12-31 22:00:00   5.0        0.0               70.0        1035.0   \n",
       "8759  2015-12-31 23:00:00   5.0        0.0               70.0        1035.0   \n",
       "\n",
       "      wind speed  \n",
       "0           16.2  \n",
       "1           14.4  \n",
       "2           18.0  \n",
       "3           14.4  \n",
       "4           18.0  \n",
       "...          ...  \n",
       "8755        10.8  \n",
       "8756        12.6  \n",
       "8757        10.8  \n",
       "8758         9.0  \n",
       "8759         7.2  \n",
       "\n",
       "[8760 rows x 6 columns]"
      ]
     },
     "execution_count": 18,
     "metadata": {},
     "output_type": "execute_result"
    }
   ],
   "source": [
    "weather_data_2015.astype({'Time': 'string'}, copy=False)"
   ]
  },
  {
   "cell_type": "code",
   "execution_count": 19,
   "metadata": {},
   "outputs": [
    {
     "name": "stdout",
     "output_type": "stream",
     "text": [
      "<class 'pandas.core.frame.DataFrame'>\n",
      "RangeIndex: 8760 entries, 0 to 8759\n",
      "Data columns (total 6 columns):\n",
      " #   Column             Non-Null Count  Dtype         \n",
      "---  ------             --------------  -----         \n",
      " 0   Time               8760 non-null   datetime64[ns]\n",
      " 1   temp               8760 non-null   float64       \n",
      " 2   dew point          8760 non-null   float64       \n",
      " 3   relative humidity  8760 non-null   float64       \n",
      " 4   air pressure       8760 non-null   float64       \n",
      " 5   wind speed         8760 non-null   float64       \n",
      "dtypes: datetime64[ns](1), float64(5)\n",
      "memory usage: 410.8 KB\n"
     ]
    }
   ],
   "source": [
    "weather_data_2015.info()"
   ]
  },
  {
   "cell_type": "code",
   "execution_count": 62,
   "metadata": {},
   "outputs": [
    {
     "name": "stdout",
     "output_type": "stream",
     "text": [
      "<class 'pandas.core.frame.DataFrame'>\n",
      "RangeIndex: 1047614 entries, 0 to 1047613\n",
      "Data columns (total 4 columns):\n",
      "Time          1047614 non-null object\n",
      "BuildingID    1047614 non-null int64\n",
      "Type          1047614 non-null object\n",
      "Record        1047614 non-null float64\n",
      "dtypes: float64(1), int64(1), object(2)\n",
      "memory usage: 32.0+ MB\n"
     ]
    }
   ],
   "source": [
    "data.info()"
   ]
  },
  {
   "cell_type": "code",
   "execution_count": 22,
   "metadata": {},
   "outputs": [],
   "source": [
    "data['Time'] = pd.to_datetime(data['Time'])"
   ]
  },
  {
   "cell_type": "code",
   "execution_count": 23,
   "metadata": {},
   "outputs": [
    {
     "name": "stdout",
     "output_type": "stream",
     "text": [
      "<class 'pandas.core.frame.DataFrame'>\n",
      "RangeIndex: 1047614 entries, 0 to 1047613\n",
      "Data columns (total 4 columns):\n",
      " #   Column      Non-Null Count    Dtype         \n",
      "---  ------      --------------    -----         \n",
      " 0   Time        1047614 non-null  datetime64[ns]\n",
      " 1   BuildingID  1047614 non-null  int64         \n",
      " 2   Type        1047614 non-null  object        \n",
      " 3   Record      1047614 non-null  float64       \n",
      "dtypes: datetime64[ns](1), float64(1), int64(1), object(1)\n",
      "memory usage: 32.0+ MB\n"
     ]
    }
   ],
   "source": [
    "data.info()"
   ]
  },
  {
   "cell_type": "code",
   "execution_count": 24,
   "metadata": {},
   "outputs": [],
   "source": [
    "merge_2015 = pd.merge(data, weather_data_2015, how='left', on='Time')"
   ]
  },
  {
   "cell_type": "code",
   "execution_count": 26,
   "metadata": {},
   "outputs": [
    {
     "name": "stdout",
     "output_type": "stream",
     "text": [
      "<class 'pandas.core.frame.DataFrame'>\n",
      "Int64Index: 1047614 entries, 0 to 1047613\n",
      "Data columns (total 9 columns):\n",
      " #   Column             Non-Null Count    Dtype         \n",
      "---  ------             --------------    -----         \n",
      " 0   Time               1047614 non-null  datetime64[ns]\n",
      " 1   BuildingID         1047614 non-null  int64         \n",
      " 2   Type               1047614 non-null  object        \n",
      " 3   Record             1047614 non-null  float64       \n",
      " 4   temp               350400 non-null   float64       \n",
      " 5   dew point          350400 non-null   float64       \n",
      " 6   relative humidity  350400 non-null   float64       \n",
      " 7   air pressure       350400 non-null   float64       \n",
      " 8   wind speed         350400 non-null   float64       \n",
      "dtypes: datetime64[ns](1), float64(6), int64(1), object(1)\n",
      "memory usage: 79.9+ MB\n"
     ]
    }
   ],
   "source": [
    "merge_2015.info()"
   ]
  },
  {
   "cell_type": "code",
   "execution_count": 27,
   "metadata": {},
   "outputs": [
    {
     "data": {
      "text/html": [
       "<div>\n",
       "<style scoped>\n",
       "    .dataframe tbody tr th:only-of-type {\n",
       "        vertical-align: middle;\n",
       "    }\n",
       "\n",
       "    .dataframe tbody tr th {\n",
       "        vertical-align: top;\n",
       "    }\n",
       "\n",
       "    .dataframe thead th {\n",
       "        text-align: right;\n",
       "    }\n",
       "</style>\n",
       "<table border=\"1\" class=\"dataframe\">\n",
       "  <thead>\n",
       "    <tr style=\"text-align: right;\">\n",
       "      <th></th>\n",
       "      <th>Time</th>\n",
       "      <th>BuildingID</th>\n",
       "      <th>Type</th>\n",
       "      <th>Record</th>\n",
       "      <th>temp</th>\n",
       "      <th>dew point</th>\n",
       "      <th>relative humidity</th>\n",
       "      <th>air pressure</th>\n",
       "      <th>wind speed</th>\n",
       "    </tr>\n",
       "  </thead>\n",
       "  <tbody>\n",
       "    <tr>\n",
       "      <th>0</th>\n",
       "      <td>2015-01-01 00:00:00</td>\n",
       "      <td>0</td>\n",
       "      <td>Q</td>\n",
       "      <td>222.00</td>\n",
       "      <td>1.5</td>\n",
       "      <td>-12.0</td>\n",
       "      <td>36.5</td>\n",
       "      <td>1033.0</td>\n",
       "      <td>16.2</td>\n",
       "    </tr>\n",
       "    <tr>\n",
       "      <th>1</th>\n",
       "      <td>2015-01-01 00:00:00</td>\n",
       "      <td>0</td>\n",
       "      <td>W</td>\n",
       "      <td>203.15</td>\n",
       "      <td>1.5</td>\n",
       "      <td>-12.0</td>\n",
       "      <td>36.5</td>\n",
       "      <td>1033.0</td>\n",
       "      <td>16.2</td>\n",
       "    </tr>\n",
       "    <tr>\n",
       "      <th>2</th>\n",
       "      <td>2015-01-01 01:00:00</td>\n",
       "      <td>0</td>\n",
       "      <td>Q</td>\n",
       "      <td>236.00</td>\n",
       "      <td>1.0</td>\n",
       "      <td>-10.5</td>\n",
       "      <td>42.5</td>\n",
       "      <td>1033.0</td>\n",
       "      <td>14.4</td>\n",
       "    </tr>\n",
       "    <tr>\n",
       "      <th>3</th>\n",
       "      <td>2015-01-01 01:00:00</td>\n",
       "      <td>0</td>\n",
       "      <td>W</td>\n",
       "      <td>205.14</td>\n",
       "      <td>1.0</td>\n",
       "      <td>-10.5</td>\n",
       "      <td>42.5</td>\n",
       "      <td>1033.0</td>\n",
       "      <td>14.4</td>\n",
       "    </tr>\n",
       "    <tr>\n",
       "      <th>4</th>\n",
       "      <td>2015-01-01 02:00:00</td>\n",
       "      <td>0</td>\n",
       "      <td>Q</td>\n",
       "      <td>222.00</td>\n",
       "      <td>1.0</td>\n",
       "      <td>-11.0</td>\n",
       "      <td>41.0</td>\n",
       "      <td>1033.0</td>\n",
       "      <td>18.0</td>\n",
       "    </tr>\n",
       "  </tbody>\n",
       "</table>\n",
       "</div>"
      ],
      "text/plain": [
       "                 Time  BuildingID Type  Record  temp  dew point  \\\n",
       "0 2015-01-01 00:00:00           0    Q  222.00   1.5      -12.0   \n",
       "1 2015-01-01 00:00:00           0    W  203.15   1.5      -12.0   \n",
       "2 2015-01-01 01:00:00           0    Q  236.00   1.0      -10.5   \n",
       "3 2015-01-01 01:00:00           0    W  205.14   1.0      -10.5   \n",
       "4 2015-01-01 02:00:00           0    Q  222.00   1.0      -11.0   \n",
       "\n",
       "   relative humidity  air pressure  wind speed  \n",
       "0               36.5        1033.0        16.2  \n",
       "1               36.5        1033.0        16.2  \n",
       "2               42.5        1033.0        14.4  \n",
       "3               42.5        1033.0        14.4  \n",
       "4               41.0        1033.0        18.0  "
      ]
     },
     "execution_count": 27,
     "metadata": {},
     "output_type": "execute_result"
    }
   ],
   "source": [
    "merge_2015.head()"
   ]
  },
  {
   "cell_type": "markdown",
   "metadata": {},
   "source": [
    "继续读入2016 2017天气数据"
   ]
  },
  {
   "cell_type": "code",
   "execution_count": 28,
   "metadata": {},
   "outputs": [],
   "source": [
    "weather_2016 = pd.read_excel('./4 weather/shanghai weather_2016.xlsx', sheet_name=0, index_col=None)\n",
    "weather_2017 = pd.read_excel('./4 weather/shanghai weather_2017.xlsx', sheet_name=0, index_col=None)"
   ]
  },
  {
   "cell_type": "code",
   "execution_count": 29,
   "metadata": {},
   "outputs": [
    {
     "name": "stdout",
     "output_type": "stream",
     "text": [
      "<class 'pandas.core.frame.DataFrame'>\n",
      "RangeIndex: 8761 entries, 0 to 8760\n",
      "Data columns (total 6 columns):\n",
      " #   Column   Non-Null Count  Dtype         \n",
      "---  ------   --------------  -----         \n",
      " 0   time     8760 non-null   datetime64[ns]\n",
      " 1   温度（℃）    8761 non-null   float64       \n",
      " 2   露点温度（℃）  8761 non-null   float64       \n",
      " 3   相对湿度（%）  8761 non-null   float64       \n",
      " 4   气压（pa）   8761 non-null   float64       \n",
      " 5   风速（m/s）  8761 non-null   float64       \n",
      "dtypes: datetime64[ns](1), float64(5)\n",
      "memory usage: 410.8 KB\n"
     ]
    }
   ],
   "source": [
    "weather_2016.info()"
   ]
  },
  {
   "cell_type": "code",
   "execution_count": 37,
   "metadata": {},
   "outputs": [],
   "source": [
    "# 修改列名\n",
    "weather_2016 = weather_2016.rename(columns={'time':'Time', '温度（℃）':'temp', '露点温度（℃）':'dew point', '相对湿度（%）':'relative humidity', '气压（pa）':'air pressure', '风速（m/s）':'wind speed'}, copy=False)\n",
    "weather_2017 = weather_2017.rename(columns={'time':'Time', '温度（℃）':'temp', '露点温度（℃）':'dew point', '相对湿度（%）':'relative humidity', '气压（pa）':'air pressure', '风速（m/s）':'wind speed'}, copy=False)"
   ]
  },
  {
   "cell_type": "code",
   "execution_count": 36,
   "metadata": {},
   "outputs": [
    {
     "name": "stdout",
     "output_type": "stream",
     "text": [
      "<class 'pandas.core.frame.DataFrame'>\n",
      "RangeIndex: 8761 entries, 0 to 8760\n",
      "Data columns (total 6 columns):\n",
      " #   Column             Non-Null Count  Dtype         \n",
      "---  ------             --------------  -----         \n",
      " 0   Time               8760 non-null   datetime64[ns]\n",
      " 1   temp               8761 non-null   float64       \n",
      " 2   dew point          8761 non-null   float64       \n",
      " 3   relative humidity  8761 non-null   float64       \n",
      " 4   air pressure       8761 non-null   float64       \n",
      " 5   wind speed         8761 non-null   float64       \n",
      "dtypes: datetime64[ns](1), float64(5)\n",
      "memory usage: 410.8 KB\n"
     ]
    }
   ],
   "source": [
    "weather_2016.info()"
   ]
  },
  {
   "cell_type": "code",
   "execution_count": 59,
   "metadata": {},
   "outputs": [
    {
     "name": "stdout",
     "output_type": "stream",
     "text": [
      "<class 'pandas.core.frame.DataFrame'>\n",
      "RangeIndex: 1047614 entries, 0 to 1047613\n",
      "Data columns (total 4 columns):\n",
      " #   Column      Non-Null Count    Dtype         \n",
      "---  ------      --------------    -----         \n",
      " 0   Time        1047614 non-null  datetime64[ns]\n",
      " 1   BuildingID  1047614 non-null  int64         \n",
      " 2   Type        1047614 non-null  object        \n",
      " 3   Record      1047614 non-null  float64       \n",
      "dtypes: datetime64[ns](1), float64(1), int64(1), object(1)\n",
      "memory usage: 32.0+ MB\n"
     ]
    }
   ],
   "source": [
    "data.info()"
   ]
  },
  {
   "cell_type": "code",
   "execution_count": 62,
   "metadata": {},
   "outputs": [],
   "source": [
    "# 把train.csv中的数据按年份单独取出，以便做merge\n",
    "data_2015 = data[data['Time'].astype(str).str.contains('2015')]\n",
    "data_2016 = data[data['Time'].astype(str).str.contains('2016')]\n",
    "data_2017 = data[data['Time'].astype(str).str.contains('2017')]"
   ]
  },
  {
   "cell_type": "code",
   "execution_count": 63,
   "metadata": {},
   "outputs": [
    {
     "name": "stdout",
     "output_type": "stream",
     "text": [
      "<class 'pandas.core.frame.DataFrame'>\n",
      "Int64Index: 350400 entries, 0 to 1012525\n",
      "Data columns (total 4 columns):\n",
      " #   Column      Non-Null Count   Dtype         \n",
      "---  ------      --------------   -----         \n",
      " 0   Time        350400 non-null  datetime64[ns]\n",
      " 1   BuildingID  350400 non-null  int64         \n",
      " 2   Type        350400 non-null  object        \n",
      " 3   Record      350400 non-null  float64       \n",
      "dtypes: datetime64[ns](1), float64(1), int64(1), object(1)\n",
      "memory usage: 13.4+ MB\n"
     ]
    }
   ],
   "source": [
    "data_2015.info()"
   ]
  },
  {
   "cell_type": "code",
   "execution_count": 68,
   "metadata": {},
   "outputs": [],
   "source": [
    "merge_2015 = pd.merge(data_2015, weather_data_2015, how='left', on='Time')\n",
    "merge_2016 = pd.merge(data_2016, weather_2016, how='left', on='Time')\n",
    "merge_2017 = pd.merge(data_2017, weather_2017, how='left', on='Time')"
   ]
  },
  {
   "cell_type": "code",
   "execution_count": 69,
   "metadata": {},
   "outputs": [],
   "source": [
    "merge_2015_2016 = merge_2015.append(merge_2016, ignore_index=True)"
   ]
  },
  {
   "cell_type": "code",
   "execution_count": 74,
   "metadata": {},
   "outputs": [],
   "source": [
    "merge_all = merge_2015_2016.append(merge_2017, ignore_index=True)"
   ]
  },
  {
   "cell_type": "code",
   "execution_count": 76,
   "metadata": {},
   "outputs": [],
   "source": [
    "merge_all.to_excel('./merge.xlsx')"
   ]
  }
 ],
 "metadata": {
  "kernelspec": {
   "display_name": "Python 3",
   "language": "python",
   "name": "python3"
  },
  "language_info": {
   "codemirror_mode": {
    "name": "ipython",
    "version": 3
   },
   "file_extension": ".py",
   "mimetype": "text/x-python",
   "name": "python",
   "nbconvert_exporter": "python",
   "pygments_lexer": "ipython3",
   "version": "3.7.4"
  }
 },
 "nbformat": 4,
 "nbformat_minor": 2
}
